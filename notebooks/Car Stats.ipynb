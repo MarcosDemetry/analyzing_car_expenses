{
 "cells": [
  {
   "cell_type": "markdown",
   "metadata": {},
   "source": [
    "# Analyzing Car Expenses Based on Receipts "
   ]
  },
  {
   "cell_type": "markdown",
   "metadata": {},
   "source": [
    "This notebook goes through some interesting stats about how much it has cost us to own a car. Since purchasing the car, I have been saving receipts from all car-related expenses. There are periods where other people have borrowed the car and fueled it up without saving the receipt, so consider this a lower bound on the expenses."
   ]
  },
  {
   "cell_type": "markdown",
   "metadata": {},
   "source": [
    "## Table of Contents:\n",
    "* [Overview: Where Did the Money Go?](#first-bullet)\n",
    "* [Parking: What's Space Worth Anyways?](#second-bullet)\n",
    "    * [Seasonality in Parking](#second-bullet-s2)\n",
    "    * [Who Do We Pay for Parking?](#second-bullet-s3)\n",
    "* [Gas Prices: Fuelling my Pain!](#third-bullet)\n",
    "    * [Gas Prices over Time](#third-bullet-s2)\n",
    "    * [What's the Final Price Tag for Fuel Consumption?](#third-bullet-s3)\n",
    "    * [Buy Low, Wait High?](#third-bullet-s4)\n",
    "    * [To the Cheapest Gas Station Please!](#third-bullet-s5)"
   ]
  },
  {
   "cell_type": "code",
   "execution_count": null,
   "metadata": {},
   "outputs": [],
   "source": [
    "# Packages\n",
    "from pathlib import Path\n",
    "import os\n",
    "import pandas as pd\n",
    "import numpy as np\n",
    "from datetime import datetime\n",
    "\n",
    "import plotly.express as px\n",
    "import plotly.graph_objects as go\n",
    "from plotly.subplots import make_subplots"
   ]
  },
  {
   "cell_type": "code",
   "execution_count": null,
   "metadata": {},
   "outputs": [],
   "source": [
    "## Setting CWD\n",
    "cwd = os.getcwd()\n",
    "root = Path(cwd).parents[0]\n",
    "datadir = str(Path(root)) + str('/data')\n",
    "outputdir = str(Path(root)) + str('/output')\n",
    "print(\"Root: \" + str(root))"
   ]
  },
  {
   "cell_type": "code",
   "execution_count": null,
   "metadata": {},
   "outputs": [],
   "source": [
    "infile = datadir + \"/raw_data.xlsx\"\n",
    "\n",
    "df = pd.read_excel(infile, sheet_name='Blad1')\n",
    "\n",
    "df_bränsle = pd.read_excel(infile, sheet_name='bränsle')\n",
    "\n",
    "df_bränsle_snittpriser = pd.read_excel(infile, sheet_name='bränsle_snittpriser')"
   ]
  },
  {
   "cell_type": "code",
   "execution_count": null,
   "metadata": {},
   "outputs": [],
   "source": [
    "df = df.append(df_bränsle[['Datum','Utgift']], ignore_index=True)      ## Appending relevant fuel data\n",
    "df['Kategori'].replace(np.nan, 'Bränsle', inplace=True)              ## Fixing Category variable"
   ]
  },
  {
   "cell_type": "markdown",
   "metadata": {},
   "source": [
    "# Where Did the Money Go?  <a class=\"anchor\" id=\"first-bullet\"></a>"
   ]
  },
  {
   "cell_type": "markdown",
   "metadata": {},
   "source": [
    "Let's break up the total costs of the car by the category."
   ]
  },
  {
   "cell_type": "code",
   "execution_count": null,
   "metadata": {},
   "outputs": [],
   "source": [
    "print(f\"The data contains information on the following categories: {list(df.Kategori.unique())}\")"
   ]
  },
  {
   "cell_type": "code",
   "execution_count": null,
   "metadata": {},
   "outputs": [],
   "source": [
    "df_kategori = df.groupby('Kategori').sum().reset_index()\n",
    "\n",
    "fig = px.pie(df_kategori, values='Utgift', names='Kategori', title='Expenses by Category')\n",
    "fig.show()"
   ]
  },
  {
   "cell_type": "markdown",
   "metadata": {},
   "source": [
    "In the figure above, we see that the greatest expenses was purchasing the car. This is followed by paying for fuel and insurance."
   ]
  },
  {
   "cell_type": "markdown",
   "metadata": {},
   "source": [
    "# Parking: What's Space Worth Anyways?  <a class=\"anchor\" id=\"second-bullet\"></a>"
   ]
  },
  {
   "cell_type": "markdown",
   "metadata": {},
   "source": [
    "How much have we paid for parking, in total? Let's take a look!"
   ]
  },
  {
   "cell_type": "code",
   "execution_count": null,
   "metadata": {},
   "outputs": [],
   "source": [
    "df_parkering = df[df['Kategori']==\"Parkering\"].reset_index()\n",
    "df_parkering['Utgift_cumulative'] = df_parkering.loc[::-1, 'Utgift'].cumsum()[::-1]\n",
    "\n",
    "fig = px.line(df_parkering,\n",
    "              x='Datum',\n",
    "              y='Utgift_cumulative',\n",
    "              title = f'Parking: Cumulative Expenses over Time',\n",
    "              labels={\"Utgift_cumulative\": \"Total Expenses (SEK)\",\"Datum\": \"Date\"},\n",
    "              color_discrete_sequence=[\"blueviolet\"])\n",
    "\n",
    "fig.show()"
   ]
  },
  {
   "cell_type": "code",
   "execution_count": null,
   "metadata": {},
   "outputs": [],
   "source": [
    "print(f\"Between the {df_parkering.Datum.min().strftime('%d %B %Y')} and {df_parkering.Datum.max().strftime('%d %B %Y')}, {df_parkering.Utgift.count()} parking occasions have cost us a total of {df_parkering.Utgift_cumulative.max()} SEK.\")"
   ]
  },
  {
   "cell_type": "markdown",
   "metadata": {},
   "source": [
    "## Seasonality in Parking <a class=\"anchor\" id=\"second-bullet-s2\"></a>"
   ]
  },
  {
   "cell_type": "markdown",
   "metadata": {},
   "source": [
    "What does the daily parking price tag look like?"
   ]
  },
  {
   "cell_type": "code",
   "execution_count": null,
   "metadata": {},
   "outputs": [],
   "source": [
    "fig = px.scatter(df_parkering[['Datum','Utgift']].groupby('Datum').sum().reset_index(),\n",
    "              x='Datum',\n",
    "              y='Utgift',\n",
    "              title = 'Daily Parking Expenses',\n",
    "              labels={\"Utgift\": \"Total Expenses per Day (SEK)\",\"Datum\": \"Date\"},\n",
    "              color_discrete_sequence=[\"blueviolet\"]\n",
    "             )\n",
    "\n",
    "fig.show()"
   ]
  },
  {
   "cell_type": "markdown",
   "metadata": {},
   "source": [
    "### How has my average spending on parking changed over time?"
   ]
  },
  {
   "cell_type": "code",
   "execution_count": null,
   "metadata": {
    "scrolled": false
   },
   "outputs": [],
   "source": [
    "df_parkering['year'], df_parkering['month'] = df_parkering['Datum'].dt.year, df_parkering['Datum'].dt.month\n",
    "\n",
    "fig = px.box(df_parkering,\n",
    "             x='year',\n",
    "             y='Utgift',\n",
    "             color='year',\n",
    "             title='Parking Expenses by Year')\n",
    "\n",
    "fig.update_yaxes(title_text=\"Daily Expenses (SEK)\")\n",
    "\n",
    "fig.show()"
   ]
  },
  {
   "cell_type": "code",
   "execution_count": null,
   "metadata": {},
   "outputs": [],
   "source": [
    "df_parkering['season'] = df_parkering.Datum.dt.month%12 // 3 + 1\n",
    "\n",
    "fig = px.box(df_parkering,\n",
    "             x='year',\n",
    "             y='Utgift',\n",
    "             color='season',\n",
    "             title='Parking Expenses by Season and Year')\n",
    "\n",
    "fig.update_yaxes(title_text=\"Daily Expenses (SEK)\")\n",
    "\n",
    "fig.show()"
   ]
  },
  {
   "cell_type": "code",
   "execution_count": null,
   "metadata": {},
   "outputs": [],
   "source": [
    "fig = px.box(df_parkering,\n",
    "             x='season',\n",
    "             y='Utgift',\n",
    "             color='season',\n",
    "             title='Parking Expenses by Season')\n",
    "\n",
    "fig.update_yaxes(title_text=\"Daily Expenses (SEK)\")\n",
    "fig.update_layout(legend_title_text='Seasons')\n",
    "\n",
    "fig.show()"
   ]
  },
  {
   "cell_type": "markdown",
   "metadata": {},
   "source": [
    "## Who Do We Pay for Parking? <a class=\"anchor\" id=\"second-bullet-s3\"></a>\n",
    "Let's break down the parking data by parking firm."
   ]
  },
  {
   "cell_type": "code",
   "execution_count": null,
   "metadata": {},
   "outputs": [],
   "source": [
    "fig = px.bar(df_parkering[['Typ','Utgift']].groupby('Typ').sum(),\n",
    "             title='Parking Expenses by Parking Firm')\n",
    "\n",
    "fig.update_yaxes(title_text=\"Total Expenses (SEK)\")\n",
    "fig.update_xaxes(title_text=\"Parking Firm\")\n",
    "\n",
    "fig.show()"
   ]
  },
  {
   "cell_type": "markdown",
   "metadata": {},
   "source": [
    "The winner is: Easypark!"
   ]
  },
  {
   "cell_type": "markdown",
   "metadata": {},
   "source": [
    "# Gas Prices: Fuelling my Pain! <a class=\"anchor\" id=\"third-bullet\"></a>\n",
    "\n",
    "In second place in terms of expenses, after paying for the actual car, was paying for fuel. Let's explore the fuel receipts!"
   ]
  },
  {
   "cell_type": "markdown",
   "metadata": {},
   "source": [
    "## Gas Prices over Time <a class=\"anchor\" id=\"third-bullet-s2\"></a>"
   ]
  },
  {
   "cell_type": "code",
   "execution_count": null,
   "metadata": {},
   "outputs": [],
   "source": [
    "fig = px.line(df_bränsle,\n",
    "              x='Datum',\n",
    "              y='Pris',\n",
    "              title = f'E95: Price over Time',\n",
    "              labels={\"Pris\": \"Price (SEK)\",\"Datum\": \"Date\"},\n",
    "              color_discrete_sequence=[\"blueviolet\"])\n",
    "\n",
    "fig.show()"
   ]
  },
  {
   "cell_type": "code",
   "execution_count": null,
   "metadata": {},
   "outputs": [],
   "source": [
    "print(f\"The figure above shows that fuel prices have been as low as {df_bränsle.Pris.min()} SEK and reached a maximum of {df_bränsle.Pris.max()} SEK. \\nThe latest price is{df_bränsle.Pris.head(1).mean(): .2f} SEK.\")"
   ]
  },
  {
   "cell_type": "markdown",
   "metadata": {},
   "source": [
    "How good am I at fueling from price-worthy gas stations? Let's compare the prices from my fuel receipts with average daily prices of fuel in Sweden!"
   ]
  },
  {
   "cell_type": "code",
   "execution_count": null,
   "metadata": {},
   "outputs": [],
   "source": [
    "fig = make_subplots()\n",
    "\n",
    "# Add traces\n",
    "fig.add_trace(\n",
    "    go.Scatter(x=df_bränsle['Datum'], y=df_bränsle['Pris'], name=\"Price Per Receipt\")\n",
    ")\n",
    "\n",
    "fig.add_trace(\n",
    "    go.Scatter(x=df_bränsle_snittpriser['Datum'], y=df_bränsle_snittpriser['E95'], name=\"Avg. Daily Price\")\n",
    ")\n",
    "\n",
    "# Add figure title\n",
    "fig.update_layout(\n",
    "    title_text=\"Price Per Fuel Receipt vs Average Daily Price\"\n",
    ")\n",
    "\n",
    "# Set x-axis title\n",
    "fig.update_xaxes(title_text=\"Date\")\n",
    "\n",
    "# Set y-axes titles\n",
    "fig.update_yaxes(title_text=\"Price (SEK)\")\n",
    "\n",
    "fig.show()"
   ]
  },
  {
   "cell_type": "markdown",
   "metadata": {},
   "source": [
    "The price at which I fuel the car seems to be consistently equal to or less than the average price of fuel. Not too bad!"
   ]
  },
  {
   "cell_type": "markdown",
   "metadata": {},
   "source": [
    "## What's the Final Price Tag for Fuel Consumption? <a class=\"anchor\" id=\"third-bullet-s3\"></a>"
   ]
  },
  {
   "cell_type": "code",
   "execution_count": null,
   "metadata": {},
   "outputs": [],
   "source": [
    "df_bränsle['Utgift_cumulative'] = df_bränsle.loc[::-1, 'Utgift'].cumsum()[::-1]\n",
    "df_bränsle['L_cumulative'] = df_bränsle.loc[::-1, 'L'].cumsum()[::-1]\n",
    "\n",
    "fig = make_subplots(specs=[[{\"secondary_y\": True}]])\n",
    "\n",
    "# Add traces\n",
    "fig.add_trace(\n",
    "    go.Scatter(x=df_bränsle['Datum'], y=df_bränsle['Utgift_cumulative'], name=\"Cumulative Expenses (SEK)\"),\n",
    "    secondary_y=False,\n",
    ")\n",
    "\n",
    "fig.add_trace(\n",
    "    go.Scatter(x=df_bränsle['Datum'], y=df_bränsle['L_cumulative'], name=\"Cumulative Volume (L)\"),\n",
    "    secondary_y=True,\n",
    ")\n",
    "\n",
    "# Add figure title\n",
    "fig.update_layout(\n",
    "    title_text=\"Cumulative Fuel Expenses and Volume\"\n",
    ")\n",
    "\n",
    "# Set x-axis title\n",
    "fig.update_xaxes(title_text=\"Date\")\n",
    "\n",
    "# Set y-axes titles\n",
    "fig.update_yaxes(title_text=\"Total Expenses (SEK)\", secondary_y=False)\n",
    "fig.update_yaxes(title_text=\"Total Volume (L)\", secondary_y=True)\n",
    "\n",
    "fig.show()"
   ]
  },
  {
   "cell_type": "code",
   "execution_count": null,
   "metadata": {},
   "outputs": [],
   "source": [
    "print(f\"The final price tag is{df_bränsle.Utgift_cumulative.head(1).mean(): .2f} SEK, for a total of{df_bränsle.L_cumulative.head(1).mean(): .2f} litres of fuel. \\nThat is equivalent to around{df_bränsle.L_cumulative.head(1).mean()/40: .2f} full tanks.\")"
   ]
  },
  {
   "cell_type": "markdown",
   "metadata": {},
   "source": [
    "## Buy Low, Wait High? <a class=\"anchor\" id=\"third-bullet-s4\"></a>\n",
    "\n",
    "Do I tend to buy more fuel when the prices are relatively low?"
   ]
  },
  {
   "cell_type": "code",
   "execution_count": null,
   "metadata": {},
   "outputs": [],
   "source": [
    "fig = make_subplots(specs=[[{\"secondary_y\": True}]])\n",
    "\n",
    "# Add traces\n",
    "fig.add_trace(\n",
    "    go.Scatter(x=df_bränsle['Datum'], y=df_bränsle['Pris'], name=\"price\"),\n",
    "    secondary_y=False,\n",
    ")\n",
    "\n",
    "fig.add_trace(\n",
    "    go.Scatter(x=df_bränsle['Datum'], y=df_bränsle['L'], name=\"volume\"),\n",
    "    secondary_y=True,\n",
    ")\n",
    "\n",
    "# Add figure title\n",
    "fig.update_layout(\n",
    "    title_text=\"Price and Volume Per Fuel Receipt\"\n",
    ")\n",
    "\n",
    "# Set x-axis title\n",
    "fig.update_xaxes(title_text=\"Date\")\n",
    "\n",
    "# Set y-axes titles\n",
    "fig.update_yaxes(title_text=\"Price\", secondary_y=False)\n",
    "fig.update_yaxes(title_text=\"Volume\", secondary_y=True)\n",
    "\n",
    "fig.show()"
   ]
  },
  {
   "cell_type": "markdown",
   "metadata": {},
   "source": [
    "A quick visual inspection of price and volume data shows that there may be such a negative co-movement until July 2018. Since then, which co-incides with me moving from Uppsala to Stockholm, there isn't a clear pattern. If anything, we fuel up more when prices are higher!"
   ]
  },
  {
   "cell_type": "code",
   "execution_count": null,
   "metadata": {},
   "outputs": [],
   "source": [
    "print(f\"In summary, between the {df_bränsle.Datum.min().strftime('%d of %B %Y')} and {df_bränsle.Datum.max().strftime('%d of %B %Y')}:\\n\")\n",
    "print(f\"- Recorded entries: {df_bränsle.Datum.count()}\\n\")\n",
    "print(f\"- Min. Price: {df_bränsle.Pris.min()} SEK\")\n",
    "print(f\"- Avg. Price: {df_bränsle.Pris.mean():.2f} SEK\")\n",
    "print(f\"- Max. Price: {df_bränsle.Pris.max()} SEK\\n\")\n",
    "print(f\"- Min. Fuel Litres: {df_bränsle.L.min()} SEK\")\n",
    "print(f\"- Avg. Fuel Litres: {df_bränsle.L.mean():.2f} SEK\")\n",
    "print(f\"- Max. Fuel Litres: {df_bränsle.L.max()} SEK\\n\")\n",
    "\n",
    "print(f\"- Total Expenses: {df_bränsle.Utgift_cumulative.head(1).mean():.2f} SEK\")\n",
    "print(f\"- Total Litres: {df_bränsle.L_cumulative.head(1).mean():.2f} SEK\\n\")\n",
    "\n",
    "print(f\"- Nr Gas Station Chains: {df_bränsle.Företag.nunique()}\")"
   ]
  },
  {
   "cell_type": "markdown",
   "metadata": {},
   "source": [
    "## To The Cheapest Gas Station, Please! <a class=\"anchor\" id=\"third-bullet-s5\"></a>\n",
    "\n",
    "Which gas station chains do I usually fuel up at, and are they the cheapest?"
   ]
  },
  {
   "cell_type": "code",
   "execution_count": null,
   "metadata": {},
   "outputs": [],
   "source": [
    "df_bränsle_grouped = pd.pivot_table(df_bränsle, values='Pris', index=['Datum'],columns='Företag', aggfunc=np.sum).reset_index()\n",
    "print(f\"From the table below, we see that I usually fuel up at Ingo (a total of {df_bränsle_grouped['Ingo'].count()} times).\")\n",
    "print(f\"On average, St1 has lower gas prices than the rest ({df_bränsle_grouped['St1'].describe()['mean']:.2f} SEK).\")\n",
    "print(f\"However, I used to fuel at St1 when I lived in Uppsala, where fuel is generally cheaper.\")\n",
    "\n",
    "df_bränsle_grouped.describe()"
   ]
  },
  {
   "cell_type": "markdown",
   "metadata": {},
   "source": [
    "Let's compare fuel prices from the gas station chains, based on my saved receipts."
   ]
  },
  {
   "cell_type": "code",
   "execution_count": null,
   "metadata": {},
   "outputs": [],
   "source": [
    "fig = go.Figure()\n",
    "for col in df_bränsle_grouped[['Circle K','Ingo','OKQ8','St1']].columns:\n",
    "    fig.add_trace(go.Scatter(x=df_bränsle_grouped.index, y=df_bränsle_grouped[col].values,\n",
    "                             name = col,\n",
    "                             mode = 'markers+lines',\n",
    "                             line=dict(shape='linear')\n",
    "                             )\n",
    "                 )\n",
    "    \n",
    "fig.update_layout(\n",
    "    title_text=\"Price per Gas Station Chain\"\n",
    ")\n",
    "\n",
    "fig.update_xaxes(title_text=\"<b>Date</b>\")\n",
    "fig.update_yaxes(title_text=\"<b>Price (SEK)</b>\")\n",
    "\n",
    "fig.show()"
   ]
  },
  {
   "cell_type": "markdown",
   "metadata": {},
   "source": [
    "There are many problems with trying to compare fuel prices from the gas chains based on my receipts. First, since I rarely fuel up from multiple gas Stations on the same day, we cannot compare the fuel prices. Second of all, it is not random where I fuel up the car. My favorite chain is Ingo, and I often drive past a couple of other gas stations (which sell fuel at a higher price) on my way there."
   ]
  },
  {
   "cell_type": "markdown",
   "metadata": {},
   "source": [
    "## End"
   ]
  }
 ],
 "metadata": {
  "kernelspec": {
   "display_name": "Python 3",
   "language": "python",
   "name": "python3"
  },
  "language_info": {
   "codemirror_mode": {
    "name": "ipython",
    "version": 3
   },
   "file_extension": ".py",
   "mimetype": "text/x-python",
   "name": "python",
   "nbconvert_exporter": "python",
   "pygments_lexer": "ipython3",
   "version": "3.7.6"
  }
 },
 "nbformat": 4,
 "nbformat_minor": 4
}
